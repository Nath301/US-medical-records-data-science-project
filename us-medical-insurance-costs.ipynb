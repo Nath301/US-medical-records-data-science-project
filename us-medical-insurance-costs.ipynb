{
 "cells": [
  {
   "cell_type": "markdown",
   "metadata": {},
   "source": [
    "# U.S. Medical Insurance Costs"
   ]
  },
  {
   "cell_type": "markdown",
   "metadata": {},
   "source": [
    "This is the **first project** of Codecademy's data science track. In this project, I will apply my Python basics in order to analyze a **csv file** and draw a report. "
   ]
  },
  {
   "cell_type": "markdown",
   "metadata": {},
   "source": [
    "First, in order to be able to navigate in the csv file, I will import the **csv library**."
   ]
  },
  {
   "cell_type": "code",
   "execution_count": 1,
   "metadata": {},
   "outputs": [],
   "source": [
    "import csv"
   ]
  },
  {
   "cell_type": "markdown",
   "metadata": {},
   "source": [
    "In a second step, after having read my file, I create **list variables** that will be useful for storing the data during the analysis.  "
   ]
  },
  {
   "cell_type": "code",
   "execution_count": 101,
   "metadata": {
    "tags": []
   },
   "outputs": [],
   "source": [
    "age = []\n",
    "sex = []\n",
    "bmi = []\n",
    "children = []\n",
    "smoker = []\n",
    "region = []\n",
    "charges = []"
   ]
  },
  {
   "cell_type": "markdown",
   "metadata": {},
   "source": [
    "Then you have to open the csv file and put each data in the corresponding variable."
   ]
  },
  {
   "cell_type": "code",
   "execution_count": 102,
   "metadata": {},
   "outputs": [
    {
     "name": "stdout",
     "output_type": "stream",
     "text": [
      "1338\n"
     ]
    }
   ],
   "source": [
    "\n",
    "with open('insurance.csv') as insurance_file:\n",
    "    insurance_dict = csv.DictReader(insurance_file)\n",
    "    for data in insurance_dict:\n",
    "        age.append(data['age'])\n",
    "        sex.append(data['sex'])\n",
    "        bmi.append(data['bmi'])\n",
    "        children.append(data['children'])\n",
    "        smoker.append(data['smoker'])\n",
    "        region.append(data['region'])\n",
    "        charges.append(data['charges'])"
   ]
  },
  {
   "cell_type": "markdown",
   "metadata": {},
   "source": [
    "Now that we have all our data arranged in lists. We can start the analysis. \n",
    "So we will answer the following questions: \n",
    "* What is the average age of the patients?\n",
    "* What is the difference in charges between men and women?\n",
    "* What is the average difference in expenses paid between those with children and those without?\n",
    "* What is the average BMI ?"
   ]
  },
  {
   "cell_type": "markdown",
   "metadata": {},
   "source": [
    "To do this analysis, we will create a **`class`** that will have all the necessary methods."
   ]
  },
  {
   "cell_type": "code",
   "execution_count": 150,
   "metadata": {},
   "outputs": [],
   "source": [
    "class AnalysePatientsData:\n",
    "    def __init__(self, patients_age, patients_sex, patients_bmi, patients_children, patients_smoker, patients_region, patients_charges):\n",
    "        self.patients_age = patients_age\n",
    "        self.patients_sex = patients_sex\n",
    "        self.patients_bmi = patients_bmi\n",
    "        self.patients_children = patients_children\n",
    "        self.patients_smoker = patients_smoker\n",
    "        self.patients_region = patients_region\n",
    "        self.patients_charges = patients_charges\n",
    "    def average_age(self):\n",
    "        count = 0\n",
    "        for x in self.patients_age:\n",
    "            count += int(x)\n",
    "        count /= len(self.patients_age)\n",
    "        print('The average age of the population is ' + str(round(count, 2)) + ' years old.')\n",
    "    def sex_charges_difference(self):\n",
    "        charges_women = 0\n",
    "        charges_men = 0\n",
    "        women_count = 0\n",
    "        men_count = 0\n",
    "        for x in range(1, len(self.patients_sex)):\n",
    "            if self.patients_sex[x] == 'male':\n",
    "                charges_men += float(self.patients_charges[x])\n",
    "                men_count += 1\n",
    "            elif self.patients_sex[x] == 'female':\n",
    "                charges_women += float(self.patients_charges[x])\n",
    "                women_count += 1\n",
    "        charges_men /= men_count\n",
    "        charges_women /= women_count\n",
    "        print('Men pay on average ' + str(round(charges_men, 2)) + ' and women pay on average ' + str(round(charges_women, 2)) + '.')\n",
    "    def children_charges_difference(self):\n",
    "        no_child = 0\n",
    "        children = 0\n",
    "        no_child_count = 0\n",
    "        children_count = 0\n",
    "        for x in range(len(self.patients_children)):\n",
    "            if int(self.patients_children[x]) == 0:\n",
    "                no_child += float(self.patients_charges[x])\n",
    "                no_child_count += 1\n",
    "            elif int(self.patients_children[x]) > 0:\n",
    "                children += float(self.patients_charges[x])\n",
    "                children_count += 1\n",
    "        no_child /= no_child_count\n",
    "        children /= children_count\n",
    "        print('People with children pay on average ' + str(round(children, 2)) + \n",
    "              ' and people without children pay on average ' + str(round(no_child, 2)) + '.')\n",
    "    def average_bmi(self):\n",
    "        bmi_population = 0\n",
    "        for x in self.patients_bmi:\n",
    "            bmi_population += float(x)\n",
    "        bmi_population /= len(self.patients_bmi)\n",
    "        print('The average BMI of the population is ' + str(round(bmi_population, 2)) + '.')"
   ]
  },
  {
   "cell_type": "code",
   "execution_count": 151,
   "metadata": {},
   "outputs": [],
   "source": [
    "patients_info = AnalysePatientsData(age, sex, bmi, children, smoker, region, charges)"
   ]
  },
  {
   "cell_type": "code",
   "execution_count": 152,
   "metadata": {},
   "outputs": [
    {
     "name": "stdout",
     "output_type": "stream",
     "text": [
      "The average age of the population is 39.21 years old.\n"
     ]
    }
   ],
   "source": [
    "patients_info.average_age()"
   ]
  },
  {
   "cell_type": "code",
   "execution_count": 153,
   "metadata": {},
   "outputs": [
    {
     "name": "stdout",
     "output_type": "stream",
     "text": [
      "Men pay on average 13956.75 and women pay on average 12563.05.\n"
     ]
    }
   ],
   "source": [
    "patients_info.sex_charges_difference()"
   ]
  },
  {
   "cell_type": "code",
   "execution_count": 154,
   "metadata": {},
   "outputs": [
    {
     "name": "stdout",
     "output_type": "stream",
     "text": [
      "People with children pay on average 13949.94 and people without children pay on average 12365.98.\n"
     ]
    }
   ],
   "source": [
    "patients_info.children_charges_difference()"
   ]
  },
  {
   "cell_type": "code",
   "execution_count": 155,
   "metadata": {},
   "outputs": [
    {
     "name": "stdout",
     "output_type": "stream",
     "text": [
      "The average BMI of the population is 30.66.\n"
     ]
    }
   ],
   "source": [
    "patients_info.average_bmi()"
   ]
  },
  {
   "cell_type": "code",
   "execution_count": null,
   "metadata": {},
   "outputs": [],
   "source": []
  }
 ],
 "metadata": {
  "kernelspec": {
   "display_name": "Python 3",
   "language": "python",
   "name": "python3"
  },
  "language_info": {
   "codemirror_mode": {
    "name": "ipython",
    "version": 3
   },
   "file_extension": ".py",
   "mimetype": "text/x-python",
   "name": "python",
   "nbconvert_exporter": "python",
   "pygments_lexer": "ipython3",
   "version": "3.8.8"
  }
 },
 "nbformat": 4,
 "nbformat_minor": 4
}
